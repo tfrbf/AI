{
 "cells": [
  {
   "cell_type": "code",
   "execution_count": 1,
   "id": "6c2634d7",
   "metadata": {
    "_cell_guid": "b1076dfc-b9ad-4769-8c92-a6c4dae69d19",
    "_uuid": "8f2839f25d086af736a60e9eeb907d3b93b6e0e5",
    "execution": {
     "iopub.execute_input": "2024-03-14T21:29:24.852346Z",
     "iopub.status.busy": "2024-03-14T21:29:24.851984Z",
     "iopub.status.idle": "2024-03-14T21:29:25.711490Z",
     "shell.execute_reply": "2024-03-14T21:29:25.710672Z"
    },
    "papermill": {
     "duration": 0.866565,
     "end_time": "2024-03-14T21:29:25.713855",
     "exception": false,
     "start_time": "2024-03-14T21:29:24.847290",
     "status": "completed"
    },
    "tags": []
   },
   "outputs": [],
   "source": [
    "import numpy as np # linear algebra\n",
    "import pandas as pd # data processing, CSV file I/O (e.g. pd.read_csv)\n",
    "import matplotlib.pyplot as plt\n",
    "import pylab as pl\n",
    "\n",
    "%matplotlib inline\n",
    "#Library"
   ]
  },
  {
   "cell_type": "code",
   "execution_count": 2,
   "id": "2fa65130",
   "metadata": {
    "execution": {
     "iopub.execute_input": "2024-03-14T21:29:25.721969Z",
     "iopub.status.busy": "2024-03-14T21:29:25.721525Z",
     "iopub.status.idle": "2024-03-14T21:29:25.759835Z",
     "shell.execute_reply": "2024-03-14T21:29:25.758827Z"
    },
    "papermill": {
     "duration": 0.044598,
     "end_time": "2024-03-14T21:29:25.762294",
     "exception": false,
     "start_time": "2024-03-14T21:29:25.717696",
     "status": "completed"
    },
    "tags": []
   },
   "outputs": [
    {
     "data": {
      "text/html": [
       "<div>\n",
       "<style scoped>\n",
       "    .dataframe tbody tr th:only-of-type {\n",
       "        vertical-align: middle;\n",
       "    }\n",
       "\n",
       "    .dataframe tbody tr th {\n",
       "        vertical-align: top;\n",
       "    }\n",
       "\n",
       "    .dataframe thead th {\n",
       "        text-align: right;\n",
       "    }\n",
       "</style>\n",
       "<table border=\"1\" class=\"dataframe\">\n",
       "  <thead>\n",
       "    <tr style=\"text-align: right;\">\n",
       "      <th></th>\n",
       "      <th>Temperature</th>\n",
       "      <th>Ice Cream Profits</th>\n",
       "    </tr>\n",
       "  </thead>\n",
       "  <tbody>\n",
       "    <tr>\n",
       "      <th>0</th>\n",
       "      <td>39</td>\n",
       "      <td>13.17</td>\n",
       "    </tr>\n",
       "    <tr>\n",
       "      <th>1</th>\n",
       "      <td>40</td>\n",
       "      <td>11.88</td>\n",
       "    </tr>\n",
       "    <tr>\n",
       "      <th>2</th>\n",
       "      <td>41</td>\n",
       "      <td>18.82</td>\n",
       "    </tr>\n",
       "    <tr>\n",
       "      <th>3</th>\n",
       "      <td>42</td>\n",
       "      <td>18.65</td>\n",
       "    </tr>\n",
       "    <tr>\n",
       "      <th>4</th>\n",
       "      <td>43</td>\n",
       "      <td>17.02</td>\n",
       "    </tr>\n",
       "    <tr>\n",
       "      <th>5</th>\n",
       "      <td>43</td>\n",
       "      <td>15.88</td>\n",
       "    </tr>\n",
       "    <tr>\n",
       "      <th>6</th>\n",
       "      <td>44</td>\n",
       "      <td>19.07</td>\n",
       "    </tr>\n",
       "    <tr>\n",
       "      <th>7</th>\n",
       "      <td>44</td>\n",
       "      <td>19.57</td>\n",
       "    </tr>\n",
       "    <tr>\n",
       "      <th>8</th>\n",
       "      <td>45</td>\n",
       "      <td>21.62</td>\n",
       "    </tr>\n",
       "    <tr>\n",
       "      <th>9</th>\n",
       "      <td>45</td>\n",
       "      <td>22.34</td>\n",
       "    </tr>\n",
       "    <tr>\n",
       "      <th>10</th>\n",
       "      <td>45</td>\n",
       "      <td>19.23</td>\n",
       "    </tr>\n",
       "    <tr>\n",
       "      <th>11</th>\n",
       "      <td>46</td>\n",
       "      <td>21.25</td>\n",
       "    </tr>\n",
       "    <tr>\n",
       "      <th>12</th>\n",
       "      <td>46</td>\n",
       "      <td>19.81</td>\n",
       "    </tr>\n",
       "    <tr>\n",
       "      <th>13</th>\n",
       "      <td>47</td>\n",
       "      <td>22.12</td>\n",
       "    </tr>\n",
       "    <tr>\n",
       "      <th>14</th>\n",
       "      <td>48</td>\n",
       "      <td>24.22</td>\n",
       "    </tr>\n",
       "  </tbody>\n",
       "</table>\n",
       "</div>"
      ],
      "text/plain": [
       "    Temperature  Ice Cream Profits\n",
       "0            39              13.17\n",
       "1            40              11.88\n",
       "2            41              18.82\n",
       "3            42              18.65\n",
       "4            43              17.02\n",
       "5            43              15.88\n",
       "6            44              19.07\n",
       "7            44              19.57\n",
       "8            45              21.62\n",
       "9            45              22.34\n",
       "10           45              19.23\n",
       "11           46              21.25\n",
       "12           46              19.81\n",
       "13           47              22.12\n",
       "14           48              24.22"
      ]
     },
     "execution_count": 2,
     "metadata": {},
     "output_type": "execute_result"
    }
   ],
   "source": [
    "df = pd.read_csv(\"/kaggle/input/temperature-and-ice-cream-sales/Ice Cream Sales - temperatures.csv\")\n",
    "df.head(15)"
   ]
  },
  {
   "cell_type": "code",
   "execution_count": 3,
   "id": "44fc7850",
   "metadata": {
    "execution": {
     "iopub.execute_input": "2024-03-14T21:29:25.770012Z",
     "iopub.status.busy": "2024-03-14T21:29:25.769014Z",
     "iopub.status.idle": "2024-03-14T21:29:26.234533Z",
     "shell.execute_reply": "2024-03-14T21:29:26.233429Z"
    },
    "papermill": {
     "duration": 0.471595,
     "end_time": "2024-03-14T21:29:26.236892",
     "exception": false,
     "start_time": "2024-03-14T21:29:25.765297",
     "status": "completed"
    },
    "tags": []
   },
   "outputs": [
    {
     "data": {
      "image/png": "[encoded data removed]",
      "text/plain": [
       "<Figure size 640x480 with 2 Axes>"
      ]
     },
     "metadata": {},
     "output_type": "display_data"
    }
   ],
   "source": [
    "viz = df[['Temperature', 'Ice Cream Profits']]\n",
    "viz.hist()\n",
    "plt.show()"
   ]
  },
  {
   "cell_type": "code",
   "execution_count": 4,
   "id": "95f7806c",
   "metadata": {
    "execution": {
     "iopub.execute_input": "2024-03-14T21:29:26.246139Z",
     "iopub.status.busy": "2024-03-14T21:29:26.245286Z",
     "iopub.status.idle": "2024-03-14T21:29:26.253033Z",
     "shell.execute_reply": "2024-03-14T21:29:26.252227Z"
    },
    "papermill": {
     "duration": 0.014532,
     "end_time": "2024-03-14T21:29:26.255133",
     "exception": false,
     "start_time": "2024-03-14T21:29:26.240601",
     "status": "completed"
    },
    "tags": []
   },
   "outputs": [
    {
     "name": "stdout",
     "output_type": "stream",
     "text": [
      "[False  True  True  True False  True  True  True False  True  True  True\n",
      "  True  True False  True False  True False  True  True  True  True  True\n",
      " False  True  True  True False  True False False  True False  True  True\n",
      "  True  True False False False  True  True  True  True  True  True False\n",
      " False False  True False  True False  True  True  True False False  True\n",
      "  True  True False False False  True  True  True  True  True  True False\n",
      "  True  True  True  True False False False False False False False  True\n",
      " False  True  True  True  True False False  True  True  True  True  True\n",
      "  True  True  True  True False  True  True  True  True  True False  True\n",
      "  True  True  True  True  True False  True False  True False  True False\n",
      "  True False  True  True False  True  True  True  True False  True  True\n",
      "  True  True False  True  True  True False False  True  True  True  True\n",
      " False False False False False False  True False  True  True False False\n",
      "  True False  True  True  True  True  True False  True  True False  True\n",
      "  True False  True  True  True  True  True  True  True  True False  True\n",
      "  True  True  True  True False  True  True False  True  True  True  True\n",
      " False  True False  True  True  True  True  True  True  True  True False\n",
      " False False False  True  True  True False  True  True  True  True False\n",
      "  True  True  True False False  True False  True  True False  True  True\n",
      "  True  True  True False False False  True  True  True False False  True\n",
      " False False  True  True False  True  True  True  True  True  True  True\n",
      "  True  True False  True  True  True  True  True  True  True  True  True\n",
      "  True False  True  True False  True  True False  True  True  True False\n",
      "  True  True  True  True  True  True  True  True False False  True  True\n",
      " False  True  True  True  True  True  True  True  True  True  True  True\n",
      " False False  True False  True  True  True  True  True  True  True False\n",
      "  True  True  True  True  True  True  True False False  True False False\n",
      " False  True  True  True False  True  True  True  True  True  True  True\n",
      "  True False  True False False False  True  True  True  True  True  True\n",
      "  True False  True  True  True  True  True  True False  True  True  True\n",
      "  True  True  True  True  True]\n"
     ]
    }
   ],
   "source": [
    "msk = np.random.ranf(len(df)) < 0.7\n",
    "train = df[msk]\n",
    "test = df[~msk]\n",
    "print(msk)"
   ]
  },
  {
   "cell_type": "code",
   "execution_count": 5,
   "id": "b5bed04f",
   "metadata": {
    "execution": {
     "iopub.execute_input": "2024-03-14T21:29:26.263687Z",
     "iopub.status.busy": "2024-03-14T21:29:26.263152Z",
     "iopub.status.idle": "2024-03-14T21:29:27.761472Z",
     "shell.execute_reply": "2024-03-14T21:29:27.760194Z"
    },
    "papermill": {
     "duration": 1.505249,
     "end_time": "2024-03-14T21:29:27.763936",
     "exception": false,
     "start_time": "2024-03-14T21:29:26.258687",
     "status": "completed"
    },
    "tags": []
   },
   "outputs": [
    {
     "name": "stdout",
     "output_type": "stream",
     "text": [
      "Coefficients:  [[1.19093041]]\n",
      "Intercept:  [-33.78074295]\n"
     ]
    }
   ],
   "source": [
    "from sklearn import linear_model\n",
    "regr = linear_model.LinearRegression()\n",
    "train_x = np.asanyarray(train[['Temperature']])\n",
    "train_y = np.asanyarray(train[['Ice Cream Profits']])\n",
    "regr.fit (train_x, train_y)\n",
    "print ('Coefficients: ', regr.coef_)\n",
    "print ('Intercept: ',regr.intercept_)\n"
   ]
  },
  {
   "cell_type": "code",
   "execution_count": 6,
   "id": "0f1d1b0b",
   "metadata": {
    "execution": {
     "iopub.execute_input": "2024-03-14T21:29:27.772510Z",
     "iopub.status.busy": "2024-03-14T21:29:27.772106Z",
     "iopub.status.idle": "2024-03-14T21:29:28.058624Z",
     "shell.execute_reply": "2024-03-14T21:29:28.057629Z"
    },
    "papermill": {
     "duration": 0.293406,
     "end_time": "2024-03-14T21:29:28.060942",
     "exception": false,
     "start_time": "2024-03-14T21:29:27.767536",
     "status": "completed"
    },
    "tags": []
   },
   "outputs": [
    {
     "data": {
      "text/plain": [
       "[<matplotlib.lines.Line2D at 0x7e79e4e7a770>]"
      ]
     },
     "execution_count": 6,
     "metadata": {},
     "output_type": "execute_result"
    },
    {
     "data": {
      "image/png": "[encoded data removed]",
      "text/plain": [
       "<Figure size 640x480 with 1 Axes>"
      ]
     },
     "metadata": {},
     "output_type": "display_data"
    }
   ],
   "source": [
    "plt.scatter(train['Temperature'], train['Ice Cream Profits'],  color='blue')\n",
    "\n",
    "plt.plot(train_x, regr.coef_[0][0]*train_x + regr.intercept_[0], '-r')\n"
   ]
  },
  {
   "cell_type": "code",
   "execution_count": 7,
   "id": "7c69c8ee",
   "metadata": {
    "execution": {
     "iopub.execute_input": "2024-03-14T21:29:28.071087Z",
     "iopub.status.busy": "2024-03-14T21:29:28.070674Z",
     "iopub.status.idle": "2024-03-14T21:29:28.081524Z",
     "shell.execute_reply": "2024-03-14T21:29:28.080246Z"
    },
    "papermill": {
     "duration": 0.018595,
     "end_time": "2024-03-14T21:29:28.083799",
     "exception": false,
     "start_time": "2024-03-14T21:29:28.065204",
     "status": "completed"
    },
    "tags": []
   },
   "outputs": [
    {
     "name": "stdout",
     "output_type": "stream",
     "text": [
      "Mean absolute error: 1.91\n",
      "Residual sum of squares (MSE): 6.20\n",
      "R2-score: 0.97\n"
     ]
    }
   ],
   "source": [
    "from sklearn.metrics import r2_score\n",
    "\n",
    "test_x = np.asanyarray(test[['Temperature']])\n",
    "test_y = np.asanyarray(test[['Ice Cream Profits']])\n",
    "test_y_ = regr.predict(test_x)\n",
    "\n",
    "print(\"Mean absolute error: %.2f\" % np.mean(np.absolute(test_y_ - test_y)))\n",
    "print(\"Residual sum of squares (MSE): %.2f\" % np.mean((test_y_ - test_y) ** 2))\n",
    "print(\"R2-score: %.2f\" % r2_score(test_y , test_y_) )"
   ]
  }
 ],
 "metadata": {
  "kaggle": {
   "accelerator": "none",
   "dataSources": [
    {
     "datasetId": 4465277,
     "sourceId": 7658392,
     "sourceType": "datasetVersion"
    }
   ],
   "dockerImageVersionId": 30664,
   "isGpuEnabled": false,
   "isInternetEnabled": true,
   "language": "python",
   "sourceType": "notebook"
  },
  "kernelspec": {
   "display_name": "Python 3",
   "language": "python",
   "name": "python3"
  },
  "language_info": {
   "codemirror_mode": {
    "name": "ipython",
    "version": 3
   },
   "file_extension": ".py",
   "mimetype": "text/x-python",
   "name": "python",
   "nbconvert_exporter": "python",
   "pygments_lexer": "ipython3",
   "version": "3.10.13"
  },
  "papermill": {
   "default_parameters": {},
   "duration": 9.002293,
   "end_time": "2024-03-14T21:29:31.213745",
   "environment_variables": {},
   "exception": null,
   "input_path": "__notebook__.ipynb",
   "output_path": "__notebook__.ipynb",
   "parameters": {},
   "start_time": "2024-03-14T21:29:22.211452",
   "version": "2.5.0"
  }
 },
 "nbformat": 4,
 "nbformat_minor": 5
}
