{
 "cells": [
  {
   "cell_type": "code",
   "execution_count": 35,
   "id": "77cd2ae3-b3af-4fa1-ba21-3551f5499f32",
   "metadata": {},
   "outputs": [],
   "source": [
    "import pandas as pd\n",
    "import numpy as np\n",
    "import sklearn\n",
    "from sklearn.preprocessing import LabelEncoder\n",
    "from sklearn.neighbors import KNeighborsClassifier\n",
    "from sklearn.model_selection import train_test_split"
   ]
  },
  {
   "cell_type": "code",
   "execution_count": 1,
   "id": "48be4143-089c-4518-98f7-ff60fba00df4",
   "metadata": {},
   "outputs": [
    {
     "ename": "NameError",
     "evalue": "name 'pd' is not defined",
     "output_type": "error",
     "traceback": [
      "\u001b[1;31m---------------------------------------------------------------------------\u001b[0m",
      "\u001b[1;31mNameError\u001b[0m                                 Traceback (most recent call last)",
      "Cell \u001b[1;32mIn[1], line 1\u001b[0m\n\u001b[1;32m----> 1\u001b[0m data \u001b[38;5;241m=\u001b[39m \u001b[43mpd\u001b[49m\u001b[38;5;241m.\u001b[39mread_csv(\u001b[38;5;124mr\u001b[39m\u001b[38;5;124m\"\u001b[39m\u001b[38;5;124mC:\u001b[39m\u001b[38;5;124m\\\u001b[39m\u001b[38;5;124mUsers\u001b[39m\u001b[38;5;124m\\\u001b[39m\u001b[38;5;124mTaha\u001b[39m\u001b[38;5;124m\\\u001b[39m\u001b[38;5;124mDownloads\u001b[39m\u001b[38;5;124m\\\u001b[39m\u001b[38;5;124mcar.data\u001b[39m\u001b[38;5;124m\"\u001b[39m)\n\u001b[0;32m      2\u001b[0m data\n",
      "\u001b[1;31mNameError\u001b[0m: name 'pd' is not defined"
     ]
    }
   ],
   "source": [
    "data = pd.read_csv(r\"C:\\Users\\Taha\\Downloads\\car.data\")\n",
    "data"
   ]
  },
  {
   "cell_type": "code",
   "execution_count": 40,
   "id": "ab574f6f-5ffe-46e1-bb60-c1862c33ca5f",
   "metadata": {},
   "outputs": [],
   "source": [
    "myprepro = LabelEncoder()\n",
    "buying = myprepro.fit_transform(list(data[\"buying\"]))\n",
    "maint = myprepro.fit_transform(list(data[\"maint\"]))\n",
    "door = myprepro.fit_transform(list(data[\"door\"]))\n",
    "persons = myprepro.fit_transform(list(data[\"persons\"]))\n",
    "door = myprepro.fit_transform(list(data[\"door\"]))\n",
    "lug_boot = myprepro.fit_transform(list(data[\"lug_boot\"]))\n",
    "safety = myprepro.fit_transform(list(data[\"safety\"]))\n",
    "clas = myprepro.fit_transform(list(data[\"class\"]))\n",
    "\n",
    "predict = \"class\""
   ]
  },
  {
   "cell_type": "code",
   "execution_count": null,
   "id": "904882ff-7fe7-484b-8613-1a5f21e41ba8",
   "metadata": {},
   "outputs": [],
   "source": [
    "data['door'].unique()"
   ]
  },
  {
   "cell_type": "code",
   "execution_count": null,
   "id": "248cb846-5baa-445d-bae5-c1a6f8c6fa86",
   "metadata": {},
   "outputs": [],
   "source": [
    "X = list(zip(buying, maint, door, persons, lug_boot, safety))\n",
    "y = list(predict)"
   ]
  },
  {
   "cell_type": "code",
   "execution_count": 79,
   "id": "be53e1b6-2f0c-4631-9174-2171b0e9f82a",
   "metadata": {},
   "outputs": [
    {
     "name": "stdout",
     "output_type": "stream",
     "text": [
      "0.6763005780346821\n"
     ]
    }
   ],
   "source": [
    "predit = \"class\"\n",
    "\n",
    "x = list(zip(buying, maint, door, lug_boot, safety))\n",
    "y = list(clas)\n",
    "\n",
    "x_train, x_test, y_train, y_test = sklearn.model_selection.train_test_split(x, y, test_size=0.1)\n",
    "\n",
    "model = KNeighborsClassifier(n_neighbors=9, p = 2)\n",
    "model.fit(x_train,y_train)\n",
    "\n",
    "accuracy = model.score(x_test, y_test)\n",
    "print(accuracy)"
   ]
  },
  {
   "cell_type": "code",
   "execution_count": null,
   "id": "8e20f714-caa5-4df5-aa1d-84272e238e67",
   "metadata": {},
   "outputs": [],
   "source": []
  }
 ],
 "metadata": {
  "kernelspec": {
   "display_name": "Python 3 (ipykernel)",
   "language": "python",
   "name": "python3"
  },
  "language_info": {
   "codemirror_mode": {
    "name": "ipython",
    "version": 3
   },
   "file_extension": ".py",
   "mimetype": "text/x-python",
   "name": "python",
   "nbconvert_exporter": "python",
   "pygments_lexer": "ipython3",
   "version": "3.9.6"
  }
 },
 "nbformat": 4,
 "nbformat_minor": 5
}
