{
 "cells": [
  {
   "cell_type": "markdown",
   "id": "0ff8fc24",
   "metadata": {
    "execution": {
     "iopub.execute_input": "2024-05-20T20:56:46.584710Z",
     "iopub.status.busy": "2024-05-20T20:56:46.584320Z",
     "iopub.status.idle": "2024-05-20T20:56:46.609479Z",
     "shell.execute_reply": "2024-05-20T20:56:46.608291Z",
     "shell.execute_reply.started": "2024-05-20T20:56:46.584677Z"
    },
    "papermill": {
     "duration": 0.004225,
     "end_time": "2024-05-20T22:06:55.534150",
     "exception": false,
     "start_time": "2024-05-20T22:06:55.529925",
     "status": "completed"
    },
    "tags": []
   },
   "source": [
    "**Libraries** "
   ]
  },
  {
   "cell_type": "code",
   "execution_count": 1,
   "id": "87fe6074",
   "metadata": {
    "_cell_guid": "b1076dfc-b9ad-4769-8c92-a6c4dae69d19",
    "_uuid": "8f2839f25d086af736a60e9eeb907d3b93b6e0e5",
    "execution": {
     "iopub.execute_input": "2024-05-20T22:06:55.544142Z",
     "iopub.status.busy": "2024-05-20T22:06:55.543286Z",
     "iopub.status.idle": "2024-05-20T22:06:56.492298Z",
     "shell.execute_reply": "2024-05-20T22:06:56.491237Z"
    },
    "papermill": {
     "duration": 0.956606,
     "end_time": "2024-05-20T22:06:56.494847",
     "exception": false,
     "start_time": "2024-05-20T22:06:55.538241",
     "status": "completed"
    },
    "tags": []
   },
   "outputs": [],
   "source": [
    "import matplotlib.pyplot as plt\n",
    "import pandas as pd\n",
    "import pylab as pl\n",
    "import numpy as np\n",
    "%matplotlib inline"
   ]
  },
  {
   "cell_type": "markdown",
   "id": "5acbd3aa",
   "metadata": {
    "papermill": {
     "duration": 0.003449,
     "end_time": "2024-05-20T22:06:56.502241",
     "exception": false,
     "start_time": "2024-05-20T22:06:56.498792",
     "status": "completed"
    },
    "tags": []
   },
   "source": [
    "**Preparing Dataset**"
   ]
  },
  {
   "cell_type": "code",
   "execution_count": 2,
   "id": "7c2f2ce1",
   "metadata": {
    "execution": {
     "iopub.execute_input": "2024-05-20T22:06:56.512286Z",
     "iopub.status.busy": "2024-05-20T22:06:56.511055Z",
     "iopub.status.idle": "2024-05-20T22:06:56.566840Z",
     "shell.execute_reply": "2024-05-20T22:06:56.565750Z"
    },
    "papermill": {
     "duration": 0.063982,
     "end_time": "2024-05-20T22:06:56.569929",
     "exception": false,
     "start_time": "2024-05-20T22:06:56.505947",
     "status": "completed"
    },
    "tags": []
   },
   "outputs": [
    {
     "data": {
      "text/html": [
       "<div>\n",
       "<style scoped>\n",
       "    .dataframe tbody tr th:only-of-type {\n",
       "        vertical-align: middle;\n",
       "    }\n",
       "\n",
       "    .dataframe tbody tr th {\n",
       "        vertical-align: top;\n",
       "    }\n",
       "\n",
       "    .dataframe thead th {\n",
       "        text-align: right;\n",
       "    }\n",
       "</style>\n",
       "<table border=\"1\" class=\"dataframe\">\n",
       "  <thead>\n",
       "    <tr style=\"text-align: right;\">\n",
       "      <th></th>\n",
       "      <th>mpg</th>\n",
       "      <th>cylinders</th>\n",
       "      <th>displacement</th>\n",
       "      <th>horsepower</th>\n",
       "      <th>weight</th>\n",
       "      <th>acceleration</th>\n",
       "      <th>model year</th>\n",
       "      <th>origin</th>\n",
       "      <th>car name</th>\n",
       "    </tr>\n",
       "  </thead>\n",
       "  <tbody>\n",
       "    <tr>\n",
       "      <th>0</th>\n",
       "      <td>18.0</td>\n",
       "      <td>8</td>\n",
       "      <td>307.0</td>\n",
       "      <td>130</td>\n",
       "      <td>3504</td>\n",
       "      <td>12.0</td>\n",
       "      <td>70</td>\n",
       "      <td>1</td>\n",
       "      <td>chevrolet chevelle malibu</td>\n",
       "    </tr>\n",
       "    <tr>\n",
       "      <th>1</th>\n",
       "      <td>15.0</td>\n",
       "      <td>8</td>\n",
       "      <td>350.0</td>\n",
       "      <td>165</td>\n",
       "      <td>3693</td>\n",
       "      <td>11.5</td>\n",
       "      <td>70</td>\n",
       "      <td>1</td>\n",
       "      <td>buick skylark 320</td>\n",
       "    </tr>\n",
       "    <tr>\n",
       "      <th>2</th>\n",
       "      <td>18.0</td>\n",
       "      <td>8</td>\n",
       "      <td>318.0</td>\n",
       "      <td>150</td>\n",
       "      <td>3436</td>\n",
       "      <td>11.0</td>\n",
       "      <td>70</td>\n",
       "      <td>1</td>\n",
       "      <td>plymouth satellite</td>\n",
       "    </tr>\n",
       "    <tr>\n",
       "      <th>3</th>\n",
       "      <td>16.0</td>\n",
       "      <td>8</td>\n",
       "      <td>304.0</td>\n",
       "      <td>150</td>\n",
       "      <td>3433</td>\n",
       "      <td>12.0</td>\n",
       "      <td>70</td>\n",
       "      <td>1</td>\n",
       "      <td>amc rebel sst</td>\n",
       "    </tr>\n",
       "    <tr>\n",
       "      <th>4</th>\n",
       "      <td>17.0</td>\n",
       "      <td>8</td>\n",
       "      <td>302.0</td>\n",
       "      <td>140</td>\n",
       "      <td>3449</td>\n",
       "      <td>10.5</td>\n",
       "      <td>70</td>\n",
       "      <td>1</td>\n",
       "      <td>ford torino</td>\n",
       "    </tr>\n",
       "    <tr>\n",
       "      <th>5</th>\n",
       "      <td>15.0</td>\n",
       "      <td>8</td>\n",
       "      <td>429.0</td>\n",
       "      <td>198</td>\n",
       "      <td>4341</td>\n",
       "      <td>10.0</td>\n",
       "      <td>70</td>\n",
       "      <td>1</td>\n",
       "      <td>ford galaxie 500</td>\n",
       "    </tr>\n",
       "    <tr>\n",
       "      <th>6</th>\n",
       "      <td>14.0</td>\n",
       "      <td>8</td>\n",
       "      <td>454.0</td>\n",
       "      <td>220</td>\n",
       "      <td>4354</td>\n",
       "      <td>9.0</td>\n",
       "      <td>70</td>\n",
       "      <td>1</td>\n",
       "      <td>chevrolet impala</td>\n",
       "    </tr>\n",
       "    <tr>\n",
       "      <th>7</th>\n",
       "      <td>14.0</td>\n",
       "      <td>8</td>\n",
       "      <td>440.0</td>\n",
       "      <td>215</td>\n",
       "      <td>4312</td>\n",
       "      <td>8.5</td>\n",
       "      <td>70</td>\n",
       "      <td>1</td>\n",
       "      <td>plymouth fury iii</td>\n",
       "    </tr>\n",
       "    <tr>\n",
       "      <th>8</th>\n",
       "      <td>14.0</td>\n",
       "      <td>8</td>\n",
       "      <td>455.0</td>\n",
       "      <td>225</td>\n",
       "      <td>4425</td>\n",
       "      <td>10.0</td>\n",
       "      <td>70</td>\n",
       "      <td>1</td>\n",
       "      <td>pontiac catalina</td>\n",
       "    </tr>\n",
       "    <tr>\n",
       "      <th>9</th>\n",
       "      <td>15.0</td>\n",
       "      <td>8</td>\n",
       "      <td>390.0</td>\n",
       "      <td>190</td>\n",
       "      <td>3850</td>\n",
       "      <td>8.5</td>\n",
       "      <td>70</td>\n",
       "      <td>1</td>\n",
       "      <td>amc ambassador dpl</td>\n",
       "    </tr>\n",
       "    <tr>\n",
       "      <th>10</th>\n",
       "      <td>15.0</td>\n",
       "      <td>8</td>\n",
       "      <td>383.0</td>\n",
       "      <td>170</td>\n",
       "      <td>3563</td>\n",
       "      <td>10.0</td>\n",
       "      <td>70</td>\n",
       "      <td>1</td>\n",
       "      <td>dodge challenger se</td>\n",
       "    </tr>\n",
       "    <tr>\n",
       "      <th>11</th>\n",
       "      <td>14.0</td>\n",
       "      <td>8</td>\n",
       "      <td>340.0</td>\n",
       "      <td>160</td>\n",
       "      <td>3609</td>\n",
       "      <td>8.0</td>\n",
       "      <td>70</td>\n",
       "      <td>1</td>\n",
       "      <td>plymouth 'cuda 340</td>\n",
       "    </tr>\n",
       "    <tr>\n",
       "      <th>12</th>\n",
       "      <td>15.0</td>\n",
       "      <td>8</td>\n",
       "      <td>400.0</td>\n",
       "      <td>150</td>\n",
       "      <td>3761</td>\n",
       "      <td>9.5</td>\n",
       "      <td>70</td>\n",
       "      <td>1</td>\n",
       "      <td>chevrolet monte carlo</td>\n",
       "    </tr>\n",
       "    <tr>\n",
       "      <th>13</th>\n",
       "      <td>14.0</td>\n",
       "      <td>8</td>\n",
       "      <td>455.0</td>\n",
       "      <td>225</td>\n",
       "      <td>3086</td>\n",
       "      <td>10.0</td>\n",
       "      <td>70</td>\n",
       "      <td>1</td>\n",
       "      <td>buick estate wagon (sw)</td>\n",
       "    </tr>\n",
       "    <tr>\n",
       "      <th>14</th>\n",
       "      <td>24.0</td>\n",
       "      <td>4</td>\n",
       "      <td>113.0</td>\n",
       "      <td>95</td>\n",
       "      <td>2372</td>\n",
       "      <td>15.0</td>\n",
       "      <td>70</td>\n",
       "      <td>3</td>\n",
       "      <td>toyota corona mark ii</td>\n",
       "    </tr>\n",
       "    <tr>\n",
       "      <th>15</th>\n",
       "      <td>22.0</td>\n",
       "      <td>6</td>\n",
       "      <td>198.0</td>\n",
       "      <td>95</td>\n",
       "      <td>2833</td>\n",
       "      <td>15.5</td>\n",
       "      <td>70</td>\n",
       "      <td>1</td>\n",
       "      <td>plymouth duster</td>\n",
       "    </tr>\n",
       "    <tr>\n",
       "      <th>16</th>\n",
       "      <td>18.0</td>\n",
       "      <td>6</td>\n",
       "      <td>199.0</td>\n",
       "      <td>97</td>\n",
       "      <td>2774</td>\n",
       "      <td>15.5</td>\n",
       "      <td>70</td>\n",
       "      <td>1</td>\n",
       "      <td>amc hornet</td>\n",
       "    </tr>\n",
       "    <tr>\n",
       "      <th>17</th>\n",
       "      <td>21.0</td>\n",
       "      <td>6</td>\n",
       "      <td>200.0</td>\n",
       "      <td>85</td>\n",
       "      <td>2587</td>\n",
       "      <td>16.0</td>\n",
       "      <td>70</td>\n",
       "      <td>1</td>\n",
       "      <td>ford maverick</td>\n",
       "    </tr>\n",
       "    <tr>\n",
       "      <th>18</th>\n",
       "      <td>27.0</td>\n",
       "      <td>4</td>\n",
       "      <td>97.0</td>\n",
       "      <td>88</td>\n",
       "      <td>2130</td>\n",
       "      <td>14.5</td>\n",
       "      <td>70</td>\n",
       "      <td>3</td>\n",
       "      <td>datsun pl510</td>\n",
       "    </tr>\n",
       "    <tr>\n",
       "      <th>19</th>\n",
       "      <td>26.0</td>\n",
       "      <td>4</td>\n",
       "      <td>97.0</td>\n",
       "      <td>46</td>\n",
       "      <td>1835</td>\n",
       "      <td>20.5</td>\n",
       "      <td>70</td>\n",
       "      <td>2</td>\n",
       "      <td>volkswagen 1131 deluxe sedan</td>\n",
       "    </tr>\n",
       "  </tbody>\n",
       "</table>\n",
       "</div>"
      ],
      "text/plain": [
       "     mpg  cylinders  displacement horsepower  weight  acceleration  \\\n",
       "0   18.0          8         307.0        130    3504          12.0   \n",
       "1   15.0          8         350.0        165    3693          11.5   \n",
       "2   18.0          8         318.0        150    3436          11.0   \n",
       "3   16.0          8         304.0        150    3433          12.0   \n",
       "4   17.0          8         302.0        140    3449          10.5   \n",
       "5   15.0          8         429.0        198    4341          10.0   \n",
       "6   14.0          8         454.0        220    4354           9.0   \n",
       "7   14.0          8         440.0        215    4312           8.5   \n",
       "8   14.0          8         455.0        225    4425          10.0   \n",
       "9   15.0          8         390.0        190    3850           8.5   \n",
       "10  15.0          8         383.0        170    3563          10.0   \n",
       "11  14.0          8         340.0        160    3609           8.0   \n",
       "12  15.0          8         400.0        150    3761           9.5   \n",
       "13  14.0          8         455.0        225    3086          10.0   \n",
       "14  24.0          4         113.0         95    2372          15.0   \n",
       "15  22.0          6         198.0         95    2833          15.5   \n",
       "16  18.0          6         199.0         97    2774          15.5   \n",
       "17  21.0          6         200.0         85    2587          16.0   \n",
       "18  27.0          4          97.0         88    2130          14.5   \n",
       "19  26.0          4          97.0         46    1835          20.5   \n",
       "\n",
       "    model year  origin                      car name  \n",
       "0           70       1     chevrolet chevelle malibu  \n",
       "1           70       1             buick skylark 320  \n",
       "2           70       1            plymouth satellite  \n",
       "3           70       1                 amc rebel sst  \n",
       "4           70       1                   ford torino  \n",
       "5           70       1              ford galaxie 500  \n",
       "6           70       1              chevrolet impala  \n",
       "7           70       1             plymouth fury iii  \n",
       "8           70       1              pontiac catalina  \n",
       "9           70       1            amc ambassador dpl  \n",
       "10          70       1           dodge challenger se  \n",
       "11          70       1            plymouth 'cuda 340  \n",
       "12          70       1         chevrolet monte carlo  \n",
       "13          70       1       buick estate wagon (sw)  \n",
       "14          70       3         toyota corona mark ii  \n",
       "15          70       1               plymouth duster  \n",
       "16          70       1                    amc hornet  \n",
       "17          70       1                 ford maverick  \n",
       "18          70       3                  datsun pl510  \n",
       "19          70       2  volkswagen 1131 deluxe sedan  "
      ]
     },
     "execution_count": 2,
     "metadata": {},
     "output_type": "execute_result"
    }
   ],
   "source": [
    "df = pd.read_csv('/kaggle/input/autompg-dataset/auto-mpg.csv')\n",
    "df.head(20)\n",
    "#df.describe()"
   ]
  },
  {
   "cell_type": "markdown",
   "id": "0eb5eadb",
   "metadata": {
    "papermill": {
     "duration": 0.003826,
     "end_time": "2024-05-20T22:06:56.578003",
     "exception": false,
     "start_time": "2024-05-20T22:06:56.574177",
     "status": "completed"
    },
    "tags": []
   },
   "source": [
    "**Data Visualize**"
   ]
  },
  {
   "cell_type": "code",
   "execution_count": 3,
   "id": "e85e8bf7",
   "metadata": {
    "execution": {
     "iopub.execute_input": "2024-05-20T22:06:56.588687Z",
     "iopub.status.busy": "2024-05-20T22:06:56.587528Z",
     "iopub.status.idle": "2024-05-20T22:06:57.635967Z",
     "shell.execute_reply": "2024-05-20T22:06:57.635174Z"
    },
    "papermill": {
     "duration": 1.055816,
     "end_time": "2024-05-20T22:06:57.638079",
     "exception": false,
     "start_time": "2024-05-20T22:06:56.582263",
     "status": "completed"
    },
    "tags": []
   },
   "outputs": [
    {
     "data": {
      "image/png": "[encoded data removed]",
      "text/plain": [
       "<Figure size 640x480 with 9 Axes>"
      ]
     },
     "metadata": {},
     "output_type": "display_data"
    }
   ],
   "source": [
    "cdf = df[['acceleration', 'weight', 'horsepower', 'displacement', 'cylinders', 'mpg']]\n",
    "df.hist()\n",
    "plt.show()"
   ]
  },
  {
   "cell_type": "code",
   "execution_count": 4,
   "id": "8c383b8f",
   "metadata": {
    "execution": {
     "iopub.execute_input": "2024-05-20T22:06:57.649942Z",
     "iopub.status.busy": "2024-05-20T22:06:57.648974Z",
     "iopub.status.idle": "2024-05-20T22:06:57.899488Z",
     "shell.execute_reply": "2024-05-20T22:06:57.898242Z"
    },
    "papermill": {
     "duration": 0.258896,
     "end_time": "2024-05-20T22:06:57.901853",
     "exception": false,
     "start_time": "2024-05-20T22:06:57.642957",
     "status": "completed"
    },
    "tags": []
   },
   "outputs": [
    {
     "data": {
      "image/png": "[encoded data removed]",
      "text/plain": [
       "<Figure size 640x480 with 1 Axes>"
      ]
     },
     "metadata": {},
     "output_type": "display_data"
    }
   ],
   "source": [
    "plt.scatter(cdf.weight, cdf.mpg, color = 'blue')\n",
    "plt.ylabel('horsepower')\n",
    "plt.xlabel('MPG')\n",
    "plt.show()"
   ]
  },
  {
   "cell_type": "markdown",
   "id": "ead7802f",
   "metadata": {
    "papermill": {
     "duration": 0.005192,
     "end_time": "2024-05-20T22:06:57.912884",
     "exception": false,
     "start_time": "2024-05-20T22:06:57.907692",
     "status": "completed"
    },
    "tags": []
   },
   "source": [
    "**Creating test and train data**"
   ]
  },
  {
   "cell_type": "code",
   "execution_count": 5,
   "id": "13895911",
   "metadata": {
    "execution": {
     "iopub.execute_input": "2024-05-20T22:06:57.925628Z",
     "iopub.status.busy": "2024-05-20T22:06:57.925227Z",
     "iopub.status.idle": "2024-05-20T22:06:57.931711Z",
     "shell.execute_reply": "2024-05-20T22:06:57.930844Z"
    },
    "papermill": {
     "duration": 0.015309,
     "end_time": "2024-05-20T22:06:57.933748",
     "exception": false,
     "start_time": "2024-05-20T22:06:57.918439",
     "status": "completed"
    },
    "tags": []
   },
   "outputs": [],
   "source": [
    "msk = np.random.rand(len(df)) < 0.8\n",
    "train = cdf[msk]\n",
    "test = cdf[~msk]"
   ]
  },
  {
   "cell_type": "markdown",
   "id": "0f26bafb",
   "metadata": {
    "papermill": {
     "duration": 0.004904,
     "end_time": "2024-05-20T22:06:57.944077",
     "exception": false,
     "start_time": "2024-05-20T22:06:57.939173",
     "status": "completed"
    },
    "tags": []
   },
   "source": [
    "**Creating Model**"
   ]
  },
  {
   "cell_type": "code",
   "execution_count": 6,
   "id": "33c29ccb",
   "metadata": {
    "execution": {
     "iopub.execute_input": "2024-05-20T22:06:57.956180Z",
     "iopub.status.busy": "2024-05-20T22:06:57.955770Z",
     "iopub.status.idle": "2024-05-20T22:06:59.421922Z",
     "shell.execute_reply": "2024-05-20T22:06:59.420788Z"
    },
    "papermill": {
     "duration": 1.47564,
     "end_time": "2024-05-20T22:06:59.424858",
     "exception": false,
     "start_time": "2024-05-20T22:06:57.949218",
     "status": "completed"
    },
    "tags": []
   },
   "outputs": [
    {
     "name": "stdout",
     "output_type": "stream",
     "text": [
      "Coefficients:  [[-0.00778212]]\n",
      "Intercept:  [46.84283055]\n"
     ]
    }
   ],
   "source": [
    "from sklearn import linear_model\n",
    "regr = linear_model.LinearRegression()\n",
    "train_x = np.asanyarray(train[['weight']])\n",
    "train_y = np.asanyarray(train[['mpg']])\n",
    "regr.fit (train_x, train_y)\n",
    "# The coefficients\n",
    "print ('Coefficients: ', regr.coef_)\n",
    "print ('Intercept: ',regr.intercept_)"
   ]
  },
  {
   "cell_type": "code",
   "execution_count": 7,
   "id": "8d3c05a6",
   "metadata": {
    "execution": {
     "iopub.execute_input": "2024-05-20T22:06:59.437384Z",
     "iopub.status.busy": "2024-05-20T22:06:59.436994Z",
     "iopub.status.idle": "2024-05-20T22:06:59.732271Z",
     "shell.execute_reply": "2024-05-20T22:06:59.731205Z"
    },
    "papermill": {
     "duration": 0.304166,
     "end_time": "2024-05-20T22:06:59.734608",
     "exception": false,
     "start_time": "2024-05-20T22:06:59.430442",
     "status": "completed"
    },
    "tags": []
   },
   "outputs": [
    {
     "data": {
      "text/plain": [
       "Text(0, 0.5, 'mpg')"
      ]
     },
     "execution_count": 7,
     "metadata": {},
     "output_type": "execute_result"
    },
    {
     "data": {
      "image/png": "[encoded data removed]",
      "text/plain": [
       "<Figure size 640x480 with 1 Axes>"
      ]
     },
     "metadata": {},
     "output_type": "display_data"
    }
   ],
   "source": [
    "plt.scatter(train.weight, train.mpg,  color='blue')\n",
    "plt.plot(train_x, regr.coef_[0][0]*train_x + regr.intercept_[0], '-r')\n",
    "plt.xlabel(\"acceleration\")\n",
    "plt.ylabel(\"mpg\")"
   ]
  },
  {
   "cell_type": "markdown",
   "id": "54f3add6",
   "metadata": {
    "papermill": {
     "duration": 0.005629,
     "end_time": "2024-05-20T22:06:59.746169",
     "exception": false,
     "start_time": "2024-05-20T22:06:59.740540",
     "status": "completed"
    },
    "tags": []
   },
   "source": [
    "**Evaluation**"
   ]
  },
  {
   "cell_type": "code",
   "execution_count": 8,
   "id": "dabea6f1",
   "metadata": {
    "execution": {
     "iopub.execute_input": "2024-05-20T22:06:59.759169Z",
     "iopub.status.busy": "2024-05-20T22:06:59.758788Z",
     "iopub.status.idle": "2024-05-20T22:06:59.767794Z",
     "shell.execute_reply": "2024-05-20T22:06:59.767072Z"
    },
    "papermill": {
     "duration": 0.018357,
     "end_time": "2024-05-20T22:06:59.770233",
     "exception": false,
     "start_time": "2024-05-20T22:06:59.751876",
     "status": "completed"
    },
    "tags": []
   },
   "outputs": [
    {
     "name": "stdout",
     "output_type": "stream",
     "text": [
      "Mean absolute error: 3.04\n",
      "Residual sum of squares (MSE): 15.44\n",
      "R2-score: 0.66\n"
     ]
    }
   ],
   "source": [
    "from sklearn.metrics import r2_score\n",
    "\n",
    "test_x = np.asanyarray(test[['weight']])\n",
    "test_y = np.asanyarray(test[['mpg']])\n",
    "test_y_ = regr.predict(test_x)\n",
    "\n",
    "print(\"Mean absolute error: %.2f\" % np.mean(np.absolute(test_y_ - test_y)))\n",
    "print(\"Residual sum of squares (MSE): %.2f\" % np.mean((test_y_ - test_y) ** 2))\n",
    "print(\"R2-score: %.2f\" % r2_score(test_y , test_y_) )"
   ]
  }
 ],
 "metadata": {
  "kaggle": {
   "accelerator": "none",
   "dataSources": [
    {
     "datasetId": 1489,
     "sourceId": 2704,
     "sourceType": "datasetVersion"
    }
   ],
   "dockerImageVersionId": 30698,
   "isGpuEnabled": false,
   "isInternetEnabled": true,
   "language": "python",
   "sourceType": "notebook"
  },
  "kernelspec": {
   "display_name": "Python 3",
   "language": "python",
   "name": "python3"
  },
  "language_info": {
   "codemirror_mode": {
    "name": "ipython",
    "version": 3
   },
   "file_extension": ".py",
   "mimetype": "text/x-python",
   "name": "python",
   "nbconvert_exporter": "python",
   "pygments_lexer": "ipython3",
   "version": "3.10.13"
  },
  "papermill": {
   "default_parameters": {},
   "duration": 7.667688,
   "end_time": "2024-05-20T22:07:00.396783",
   "environment_variables": {},
   "exception": null,
   "input_path": "__notebook__.ipynb",
   "output_path": "__notebook__.ipynb",
   "parameters": {},
   "start_time": "2024-05-20T22:06:52.729095",
   "version": "2.5.0"
  }
 },
 "nbformat": 4,
 "nbformat_minor": 5
}
